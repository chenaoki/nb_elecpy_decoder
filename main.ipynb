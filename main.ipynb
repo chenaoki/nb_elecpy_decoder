{
 "cells": [
  {
   "cell_type": "code",
   "execution_count": 1,
   "metadata": {
    "collapsed": true
   },
   "outputs": [],
   "source": [
    "import numpy as np\n",
    "import os, glob\n",
    "from numba.decorators import autojit\n",
    "import matplotlib.pyplot as plt\n",
    "%matplotlib inline\n",
    "\n",
    "import matplotlib.animation as animation\n",
    "from IPython.display import HTML\n",
    "from scipy.ndimage import convolve"
   ]
  },
  {
   "cell_type": "code",
   "execution_count": 3,
   "metadata": {
    "collapsed": false
   },
   "outputs": [],
   "source": [
    "class ElecpySession(object):\n",
    "    \n",
    "    def __init__(self, path):\n",
    "        \n",
    "        self.path = path\n",
    "        self.data = {}\n",
    "        \n",
    "        vmem_files = sorted( glob.glob(os.path.join(self.path, 'vmem*.npy')))\n",
    "        phie_files = sorted( glob.glob(os.path.join(self.path, 'phie*.npy')))\n",
    "        assert len(vmem_files) ==  len(phie_files)\n",
    "        self.L = len(vmem_files)\n",
    "        _img_vmem = np.load( vmem_files[0])\n",
    "        _img_phie = np.load( phie_files[0])       \n",
    "        assert _img_vmem.shape == _img_phie.shape\n",
    "        \n",
    "        self.data['vmem'] = np.zeros(np.concatenate(([self.L], _img_vmem.shape)), dtype=_img_vmem.dtype)\n",
    "        self.data['phie'] = np.zeros(np.concatenate(([self.L], _img_phie.shape)), dtype=_img_phie.dtype)        \n",
    "        for i, _f in enumerate(vmem_files): self.data['vmem'][i,:,:] = np.load(_f)\n",
    "        for i, _f in enumerate(phie_files): self.data['phie'][i,:,:] = np.load(_f)\n",
    "            \n",
    "    def getNormalized(self):\n",
    "            \n",
    "        ret = ElecpySession (self.path)\n",
    "        \n",
    "        def pixelwise_normalize(X):\n",
    "            L, M, N = X.shape\n",
    "            ret = np.zeros_like(X)\n",
    "            for i in range(M):\n",
    "                for j in range(N):\n",
    "                    ts = X[:,i,j]\n",
    "                    ret[:, i, j] = (ts-ts.min())/(abs(ts.max() - ts.min())+1.0e-30)\n",
    "            return ret\n",
    "                    \n",
    "        _func = autojit(pixelwise_normalize)\n",
    "        for key in self.data.keys():\n",
    "            ret.data[key] = _func(self.data[key])\n",
    "        \n",
    "        return ret\n",
    "    \n",
    "    def saveAnimation(self, save_dir, keys=None, time_range=None):\n",
    "        \n",
    "        if keys is None : keys = self.data.keys()\n",
    "        if time_range is None : time_range = np.arange(self.L)\n",
    "            \n",
    "        for key in keys:\n",
    "\n",
    "            fig = plt.figure()\n",
    "            plt.axis('off')\n",
    "            data = self.data[key]\n",
    "            vmin = data.min()\n",
    "            vmax = data.max()\n",
    "\n",
    "            ims = []\n",
    "            for i, img in enumerate(data[time_range]):\n",
    "                im = plt.imshow(\n",
    "                    img,\n",
    "                    vmin = vmin, vmax = vmax,\n",
    "                    cmap='hot',\n",
    "                    interpolation='nearest')\n",
    "                ims.append([im])\n",
    "\n",
    "            ani = animation.ArtistAnimation(fig, ims, interval=30)\n",
    "            ani.save(os.path.join(save_dir, '{0}.gif'.format(key)), writer=\"imagemagick\")\n",
    "            \n",
    "    def pseudoECG(self, i, j):\n",
    "        \n",
    "        eta = np.ones((3,3), dtype=np.float64)\n",
    "        \n",
    "        k = np.ones((3,3), dtype=np.float64)\n",
    "        k[1,1] = -8.\n",
    "        \n",
    "        k = k*eta\n",
    "        \n",
    "        phie = self.data['phie']                \n",
    "        L,M,N = phie.shape\n",
    "\n",
    "        def pixelwise_distance(pos_y, pos_x, pos_z = 0.):\n",
    "            dist = np.zeros((M, N))\n",
    "            for i_ in range(M):\n",
    "                for j_ in range(N):\n",
    "                    dist[i_, j_] = np.sqrt( pos_z**2 + (pos_y - i_)**2 + (pos_x -  j_)**2 )\n",
    "            return dist                    \n",
    "        im_dist = autojit(pixelwise_distance)(i, j)\n",
    "        im_dist[i, j] = 1.0 ## to avoid zero division\n",
    "\n",
    "        def framewise_ecg():\n",
    "            ecg = np.zeros((L))\n",
    "            for f in range(L):\n",
    "                im_conv = convolve(phie[f,:,:], k, mode='constant', cval=0.)\n",
    "                im_mul = im_conv/im_dist\n",
    "                im_mul[i, j] = 0.0\n",
    "                ecg[f] = np.sum(im_mul)\n",
    "            return ecg\n",
    "        ecg = autojit(framewise_ecg)()\n",
    "        return ecg\n",
    "        \n",
    "        "
   ]
  },
  {
   "cell_type": "markdown",
   "metadata": {},
   "source": [
    "## Sample"
   ]
  },
  {
   "cell_type": "code",
   "execution_count": 9,
   "metadata": {
    "collapsed": false
   },
   "outputs": [],
   "source": [
    "path = '/mnt/recordings/SimulationResult/20180506-1/'\n",
    "# !ls /mnt/recordings/SimulationResult/2018-02-01/"
   ]
  },
  {
   "cell_type": "code",
   "execution_count": 10,
   "metadata": {
    "collapsed": false
   },
   "outputs": [
    {
     "data": {
      "text/plain": [
       "26"
      ]
     },
     "execution_count": 10,
     "metadata": {},
     "output_type": "execute_result"
    }
   ],
   "source": [
    "sess = ElecpySession(path)\n",
    "len(sess.data['vmem'])"
   ]
  },
  {
   "cell_type": "code",
   "execution_count": 11,
   "metadata": {
    "collapsed": false
   },
   "outputs": [
    {
     "data": {
      "text/plain": [
       "[<matplotlib.lines.Line2D at 0x7f306c3244d0>]"
      ]
     },
     "execution_count": 11,
     "metadata": {},
     "output_type": "execute_result"
    },
    {
     "data": {
      "image/png": "[encoded data removed]",
      "text/plain": [
       "<matplotlib.figure.Figure at 0x7f305cd0c5d0>"
      ]
     },
     "metadata": {},
     "output_type": "display_data"
    }
   ],
   "source": [
    "pos_y, pos_x = (100,100)\n",
    "ecg = sess.pseudoECG(pos_y, pos_x)\n",
    "plt.plot(ecg)\n",
    "plt.plot(sess.data['vmem'][:,pos_y, pos_x])\n",
    "plt.plot(sess.data['phie'][:,50,50])"
   ]
  },
  {
   "cell_type": "code",
   "execution_count": 8,
   "metadata": {
    "collapsed": false
   },
   "outputs": [
    {
     "ename": "KeyboardInterrupt",
     "evalue": "",
     "output_type": "error",
     "traceback": [
      "\u001b[0;31m\u001b[0m",
      "\u001b[0;31mKeyboardInterrupt\u001b[0mTraceback (most recent call last)",
      "\u001b[0;32m<ipython-input-8-5ee026a11726>\u001b[0m in \u001b[0;36m<module>\u001b[0;34m()\u001b[0m\n\u001b[1;32m      7\u001b[0m             \u001b[0mall_ecg\u001b[0m\u001b[0;34m[\u001b[0m\u001b[0;34m:\u001b[0m\u001b[0;34m,\u001b[0m\u001b[0mi\u001b[0m\u001b[0;34m,\u001b[0m\u001b[0mj\u001b[0m\u001b[0;34m]\u001b[0m \u001b[0;34m=\u001b[0m \u001b[0mecg\u001b[0m\u001b[0;34m\u001b[0m\u001b[0m\n\u001b[1;32m      8\u001b[0m     \u001b[0;32mreturn\u001b[0m \u001b[0mall_ecg\u001b[0m\u001b[0;34m\u001b[0m\u001b[0m\n\u001b[0;32m----> 9\u001b[0;31m \u001b[0mall_ecg\u001b[0m \u001b[0;34m=\u001b[0m \u001b[0mautojit\u001b[0m\u001b[0;34m(\u001b[0m\u001b[0mcalc_ecg\u001b[0m\u001b[0;34m)\u001b[0m\u001b[0;34m(\u001b[0m\u001b[0msess\u001b[0m\u001b[0;34m.\u001b[0m\u001b[0mdata\u001b[0m\u001b[0;34m[\u001b[0m\u001b[0;34m'phie'\u001b[0m\u001b[0;34m]\u001b[0m\u001b[0;34m)\u001b[0m\u001b[0;34m\u001b[0m\u001b[0m\n\u001b[0m",
      "\u001b[0;32m<ipython-input-3-5957aea3bac4>\u001b[0m in \u001b[0;36mpseudoECG\u001b[0;34m(self, i, j)\u001b[0m\n\u001b[1;32m     92\u001b[0m                 \u001b[0mecg\u001b[0m\u001b[0;34m[\u001b[0m\u001b[0mf\u001b[0m\u001b[0;34m]\u001b[0m \u001b[0;34m=\u001b[0m \u001b[0mnp\u001b[0m\u001b[0;34m.\u001b[0m\u001b[0msum\u001b[0m\u001b[0;34m(\u001b[0m\u001b[0mim_mul\u001b[0m\u001b[0;34m)\u001b[0m\u001b[0;34m\u001b[0m\u001b[0m\n\u001b[1;32m     93\u001b[0m             \u001b[0;32mreturn\u001b[0m \u001b[0mecg\u001b[0m\u001b[0;34m\u001b[0m\u001b[0m\n\u001b[0;32m---> 94\u001b[0;31m         \u001b[0mecg\u001b[0m \u001b[0;34m=\u001b[0m \u001b[0mautojit\u001b[0m\u001b[0;34m(\u001b[0m\u001b[0mframewise_ecg\u001b[0m\u001b[0;34m)\u001b[0m\u001b[0;34m(\u001b[0m\u001b[0;34m)\u001b[0m\u001b[0;34m\u001b[0m\u001b[0m\n\u001b[0m\u001b[1;32m     95\u001b[0m         \u001b[0;32mreturn\u001b[0m \u001b[0mecg\u001b[0m\u001b[0;34m\u001b[0m\u001b[0m\n\u001b[1;32m     96\u001b[0m \u001b[0;34m\u001b[0m\u001b[0m\n",
      "\u001b[0;32m/root/.pyenv/versions/anaconda2-4.3.1/lib/python2.7/site-packages/scipy/ndimage/filters.pyc\u001b[0m in \u001b[0;36mconvolve\u001b[0;34m(input, weights, output, mode, cval, origin)\u001b[0m\n\u001b[1;32m    753\u001b[0m     \"\"\"\n\u001b[1;32m    754\u001b[0m     return _correlate_or_convolve(input, weights, output, mode, cval,\n\u001b[0;32m--> 755\u001b[0;31m                                   origin, True)\n\u001b[0m\u001b[1;32m    756\u001b[0m \u001b[0;34m\u001b[0m\u001b[0m\n\u001b[1;32m    757\u001b[0m \u001b[0;34m\u001b[0m\u001b[0m\n",
      "\u001b[0;32m/root/.pyenv/versions/anaconda2-4.3.1/lib/python2.7/site-packages/scipy/ndimage/filters.pyc\u001b[0m in \u001b[0;36m_correlate_or_convolve\u001b[0;34m(input, weights, output, mode, cval, origin, convolution)\u001b[0m\n\u001b[1;32m    601\u001b[0m     \u001b[0moutput\u001b[0m\u001b[0;34m,\u001b[0m \u001b[0mreturn_value\u001b[0m \u001b[0;34m=\u001b[0m \u001b[0m_ni_support\u001b[0m\u001b[0;34m.\u001b[0m\u001b[0m_get_output\u001b[0m\u001b[0;34m(\u001b[0m\u001b[0moutput\u001b[0m\u001b[0;34m,\u001b[0m \u001b[0minput\u001b[0m\u001b[0;34m)\u001b[0m\u001b[0;34m\u001b[0m\u001b[0m\n\u001b[1;32m    602\u001b[0m     \u001b[0mmode\u001b[0m \u001b[0;34m=\u001b[0m \u001b[0m_ni_support\u001b[0m\u001b[0;34m.\u001b[0m\u001b[0m_extend_mode_to_code\u001b[0m\u001b[0;34m(\u001b[0m\u001b[0mmode\u001b[0m\u001b[0;34m)\u001b[0m\u001b[0;34m\u001b[0m\u001b[0m\n\u001b[0;32m--> 603\u001b[0;31m     \u001b[0m_nd_image\u001b[0m\u001b[0;34m.\u001b[0m\u001b[0mcorrelate\u001b[0m\u001b[0;34m(\u001b[0m\u001b[0minput\u001b[0m\u001b[0;34m,\u001b[0m \u001b[0mweights\u001b[0m\u001b[0;34m,\u001b[0m \u001b[0moutput\u001b[0m\u001b[0;34m,\u001b[0m \u001b[0mmode\u001b[0m\u001b[0;34m,\u001b[0m \u001b[0mcval\u001b[0m\u001b[0;34m,\u001b[0m \u001b[0morigins\u001b[0m\u001b[0;34m)\u001b[0m\u001b[0;34m\u001b[0m\u001b[0m\n\u001b[0m\u001b[1;32m    604\u001b[0m     \u001b[0;32mreturn\u001b[0m \u001b[0mreturn_value\u001b[0m\u001b[0;34m\u001b[0m\u001b[0m\n\u001b[1;32m    605\u001b[0m \u001b[0;34m\u001b[0m\u001b[0m\n",
      "\u001b[0;31mKeyboardInterrupt\u001b[0m: "
     ]
    }
   ],
   "source": [
    "def calc_ecg(phie):\n",
    "    all_ecg = np.zeros_like(phie)\n",
    "    L, M, N = phie.shape\n",
    "    for i in range(M):\n",
    "        for j in range(N):\n",
    "            ecg = sess.pseudoECG(i, j)\n",
    "            all_ecg[:,i,j] = ecg\n",
    "    return all_ecg\n",
    "all_ecg = autojit(calc_ecg)(sess.data['phie'])"
   ]
  },
  {
   "cell_type": "code",
   "execution_count": null,
   "metadata": {
    "collapsed": false
   },
   "outputs": [],
   "source": [
    "plt.plot(all_ecg[:,140,140])"
   ]
  },
  {
   "cell_type": "code",
   "execution_count": null,
   "metadata": {
    "collapsed": false
   },
   "outputs": [],
   "source": [
    "sess.data['ecg'] = all_ecg[]\n",
    "\n",
    "#sess.saveAnimation('./', keys=['vmem'], time_range=np.arange(50))\n",
    "sess.saveAnimation('./', keys=['ecg'], time_range=np.arange(500))"
   ]
  },
  {
   "cell_type": "code",
   "execution_count": null,
   "metadata": {
    "collapsed": false
   },
   "outputs": [],
   "source": [
    "offset = 25\n",
    "interval = 25\n",
    "\n",
    "X = np.arange(offset, all_ecg.shape[2]-offset, interval)\n",
    "Y = np.arange(offset, all_ecg.shape[1]-offset, interval)\n",
    "X,Y"
   ]
  },
  {
   "cell_type": "code",
   "execution_count": null,
   "metadata": {
    "collapsed": false
   },
   "outputs": [],
   "source": [
    "sparse_ecg  = np.zeros(( all_ecg.shape[0] ,len(Y), len(X)))\n",
    "for i, y in enumerate(Y):\n",
    "    for j, x in enumerate(X):\n",
    "        sparse_ecg[:, i, j] = all_ecg[:, y, x]\n",
    "sparse_ecg.shape"
   ]
  },
  {
   "cell_type": "code",
   "execution_count": null,
   "metadata": {
    "collapsed": false
   },
   "outputs": [],
   "source": [
    "sess.data['sp_ecg'] = sparse_ecg\n",
    "sess.saveAnimation('./', keys=['sp_ecg'])"
   ]
  },
  {
   "cell_type": "code",
   "execution_count": null,
   "metadata": {
    "collapsed": false
   },
   "outputs": [],
   "source": [
    "sparse_ecg_sub = np.array([img - sparse_ecg[f,0,0] for f, img in enumerate(sparse_ecg)])"
   ]
  },
  {
   "cell_type": "code",
   "execution_count": null,
   "metadata": {
    "collapsed": false
   },
   "outputs": [],
   "source": [
    "#plt.plot(sparse_ecg[:,1,1])\n",
    "#plt.plot(sparse_ecg_sub[:,0,2])\n",
    "plt.plot(sparse_ecg_sub[:,1,0])\n",
    "plt.plot(sparse_ecg_sub[:,0,1])\n",
    "#plt.plot(sparse_ecg_sub[:,2,2])\n"
   ]
  },
  {
   "cell_type": "code",
   "execution_count": null,
   "metadata": {
    "collapsed": false
   },
   "outputs": [],
   "source": [
    "plt.imshow(sparse_ecg_sub[0,:,:], interpolation='nearest')"
   ]
  },
  {
   "cell_type": "code",
   "execution_count": null,
   "metadata": {
    "collapsed": false
   },
   "outputs": [],
   "source": [
    "sess.data['sp_ecg_sub'] = sparse_ecg_sub\n",
    "sess.saveAnimation('./', keys=['sp_ecg_sub'])"
   ]
  },
  {
   "cell_type": "code",
   "execution_count": null,
   "metadata": {
    "collapsed": false
   },
   "outputs": [],
   "source": [
    "sparse_ecg_sub_resize = np.array([imresize(img, (200,200), interp='bilinear') for img in sparse_ecg_sub])\n",
    "\n",
    "\n",
    "sess.data['sp_ecg_sub_resize'] = sparse_ecg_sub_resize\n",
    "sess.saveAnimation('./', keys=['sp_ecg_sub_resize'])"
   ]
  },
  {
   "cell_type": "code",
   "execution_count": null,
   "metadata": {
    "collapsed": false
   },
   "outputs": [],
   "source": [
    "sparse_ecg_resize = np.array([imresize(img, (200,200), interp='bilinear') for img in sparse_ecg])\n",
    "sess.data['sp_ecg_resize'] = sparse_ecg_resize\n",
    "sess.saveAnimation('./', keys=['sp_ecg_resize'])"
   ]
  }
 ],
 "metadata": {
  "kernelspec": {
   "display_name": "Python 2",
   "language": "python",
   "name": "python2"
  },
  "language_info": {
   "codemirror_mode": {
    "name": "ipython",
    "version": 2
   },
   "file_extension": ".py",
   "mimetype": "text/x-python",
   "name": "python",
   "nbconvert_exporter": "python",
   "pygments_lexer": "ipython2",
   "version": "2.7.13"
  }
 },
 "nbformat": 4,
 "nbformat_minor": 2
}
